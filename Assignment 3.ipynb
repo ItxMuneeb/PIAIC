{
 "cells": [
  {
   "cell_type": "code",
   "execution_count": 13,
   "metadata": {},
   "outputs": [
    {
     "name": "stdout",
     "output_type": "stream",
     "text": [
      "Number of Words = 180\n",
      "Number of lines = 72\n",
      "Number of Spaces = 280\n",
      "Number of Tabs = 36\n",
      "Number of Paragraphs = 36\n",
      "Number of Non Space Characters = 44\n"
     ]
    }
   ],
   "source": [
    "words = 0\n",
    "lines = 0\n",
    "spaces = 0\n",
    "tabs = 0\n",
    "paragraphs = 0\n",
    "non_space_char = 0\n",
    "\n",
    "\n",
    "file_name = \"/Users/Muneeb/Downloads/assignment file parsing.txt\"\n",
    "\n",
    "with open (file_name,'r') as file:\n",
    "    for count in file:\n",
    "        words += len(count.split())\n",
    "        lines += len(count.split('\\n'))\n",
    "        spaces += len(count.split(' '))\n",
    "        tabs += len(count.split('\\t'))\n",
    "        paragraphs += len(count.split('\\n\\n'))\n",
    "        non_space_char += len(count.split('_'))\n",
    "        \n",
    "        \n",
    "print('Number of Words =',words)        \n",
    "print('Number of lines =',lines)   \n",
    "print('Number of Spaces =',spaces)   \n",
    "print('Number of Tabs =',tabs)   \n",
    "print('Number of Paragraphs =',paragraphs)   \n",
    "print('Number of Non Space Characters =',non_space_char)   "
   ]
  },
  {
   "cell_type": "code",
   "execution_count": null,
   "metadata": {},
   "outputs": [],
   "source": []
  },
  {
   "cell_type": "code",
   "execution_count": null,
   "metadata": {},
   "outputs": [],
   "source": []
  }
 ],
 "metadata": {
  "kernelspec": {
   "display_name": "Python 3",
   "language": "python",
   "name": "python3"
  },
  "language_info": {
   "codemirror_mode": {
    "name": "ipython",
    "version": 3
   },
   "file_extension": ".py",
   "mimetype": "text/x-python",
   "name": "python",
   "nbconvert_exporter": "python",
   "pygments_lexer": "ipython3",
   "version": "3.7.3"
  }
 },
 "nbformat": 4,
 "nbformat_minor": 2
}
